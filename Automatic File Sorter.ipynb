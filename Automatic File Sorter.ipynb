{
 "cells": [
  {
   "cell_type": "code",
   "execution_count": 71,
   "id": "7c82aa78-d5d4-4edc-afd6-b6f224e55193",
   "metadata": {},
   "outputs": [],
   "source": [
    "import os, shutil"
   ]
  },
  {
   "cell_type": "code",
   "execution_count": 73,
   "id": "0e87a8b5-dfa8-46f9-91c4-90f76976a51c",
   "metadata": {},
   "outputs": [],
   "source": [
    "path = r\"C:/Users/Dell/OneDrive/Documents/project_docs/\""
   ]
  },
  {
   "cell_type": "code",
   "execution_count": 75,
   "id": "91c579f7-8817-4fb2-9cda-a7a8a7661f6c",
   "metadata": {},
   "outputs": [],
   "source": [
    "file_name = os.listdir(path)"
   ]
  },
  {
   "cell_type": "code",
   "execution_count": 77,
   "id": "023f3248-64e3-4112-9003-6b82b6c0fb78",
   "metadata": {},
   "outputs": [
    {
     "name": "stdout",
     "output_type": "stream",
     "text": [
      "C:/Users/Dell/OneDrive/Documents/project_docs/excel files\n",
      "C:/Users/Dell/OneDrive/Documents/project_docs/image files\n",
      "C:/Users/Dell/OneDrive/Documents/project_docs/text files\n"
     ]
    }
   ],
   "source": [
    "folder_names = ['excel files', 'image files', 'text files']\n",
    "for loop in range(0,3):\n",
    "    if not os.path.exists(path + folder_names[loop]):\n",
    "        print(path + folder_names[loop])\n",
    "        os.makedirs(path + folder_names[loop])\n",
    "        "
   ]
  },
  {
   "cell_type": "code",
   "execution_count": 79,
   "id": "5f021e46-3b32-474f-a164-9922dd4c505e",
   "metadata": {},
   "outputs": [],
   "source": [
    "for file in file_name:\n",
    "    if \".xlsx\" in file and not os.path.exists(path + \"excel files/\" + file):\n",
    "        shutil.move(path + file, path + \"excel files/\" + file)\n",
    "    elif (\".png\" in file or \".jpg\" in file) and not os.path.exists(path + \"image files/\" + file):\n",
    "        shutil.move(path + file, path + \"image files/\" + file)\n",
    "    elif \".txt\" in file and not os.path.exists(path + \"text files/\" + file):\n",
    "        shutil.move(path + file, path + \"text files/\" + file)\n",
    "    else:\n",
    "        print(\"There are files in this path that were not moved.\")"
   ]
  },
  {
   "cell_type": "code",
   "execution_count": null,
   "id": "1575e2ca-7665-4e85-9e0a-2f0942df7eda",
   "metadata": {},
   "outputs": [],
   "source": []
  }
 ],
 "metadata": {
  "kernelspec": {
   "display_name": "Python 3 (ipykernel)",
   "language": "python",
   "name": "python3"
  },
  "language_info": {
   "codemirror_mode": {
    "name": "ipython",
    "version": 3
   },
   "file_extension": ".py",
   "mimetype": "text/x-python",
   "name": "python",
   "nbconvert_exporter": "python",
   "pygments_lexer": "ipython3",
   "version": "3.12.4"
  }
 },
 "nbformat": 4,
 "nbformat_minor": 5
}
